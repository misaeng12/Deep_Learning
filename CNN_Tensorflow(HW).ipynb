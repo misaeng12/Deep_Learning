{
  "nbformat": 4,
  "nbformat_minor": 0,
  "metadata": {
    "colab": {
      "name": "CNN_Tensorflow(HW).ipynb",
      "version": "0.3.2",
      "provenance": [],
      "collapsed_sections": []
    },
    "kernelspec": {
      "name": "python3",
      "display_name": "Python 3"
    },
    "accelerator": "GPU"
  },
  "cells": [
    {
      "metadata": {
        "colab_type": "code",
        "id": "ZveYW6OrzfVX",
        "colab": {}
      },
      "cell_type": "code",
      "source": [
        "import tensorflow as tf\n",
        "import numpy as np\n",
        "from sklearn.utils import shuffle"
      ],
      "execution_count": 0,
      "outputs": []
    },
    {
      "metadata": {
        "colab_type": "code",
        "id": "kKlS013tzfVl",
        "outputId": "455de2be-d751-4729-8932-bc3470dbf541",
        "colab": {
          "base_uri": "https://localhost:8080/",
          "height": 89
        }
      },
      "cell_type": "code",
      "source": [
        "from tensorflow.examples.tutorials.mnist import input_data\n",
        "mnist = input_data.read_data_sets(\"MNIST_data/\", one_hot=True)"
      ],
      "execution_count": 0,
      "outputs": [
        {
          "output_type": "stream",
          "text": [
            "Extracting MNIST_data/train-images-idx3-ubyte.gz\n",
            "Extracting MNIST_data/train-labels-idx1-ubyte.gz\n",
            "Extracting MNIST_data/t10k-images-idx3-ubyte.gz\n",
            "Extracting MNIST_data/t10k-labels-idx1-ubyte.gz\n"
          ],
          "name": "stdout"
        }
      ]
    },
    {
      "metadata": {
        "colab_type": "code",
        "id": "iiZJU60_zfV2",
        "cellView": "code",
        "colab": {}
      },
      "cell_type": "code",
      "source": [
        "train_xdata = np.array([np.reshape(x, (28, 28, 1)) for x in mnist.train.images])\n",
        "test_xdata = np.array([np.reshape(x, (28, 28, 1)) for x in mnist.test.images])\n",
        " # CNN이기 때문에 28*28이 아니라 (28, 28, 1), 마지막 1은 channel의 개수(=C)\n",
        "train_labels, test_labels = mnist.train.labels, mnist.test.labels"
      ],
      "execution_count": 0,
      "outputs": []
    },
    {
      "metadata": {
        "colab_type": "code",
        "id": "qtt5ewCPzfWO",
        "outputId": "f298e83c-9f7e-410c-a160-0deb673fb71f",
        "colab": {
          "base_uri": "https://localhost:8080/",
          "height": 35
        }
      },
      "cell_type": "code",
      "source": [
        "train_xdata.shape, train_labels.shape, test_xdata.shape, test_labels.shape"
      ],
      "execution_count": 0,
      "outputs": [
        {
          "output_type": "execute_result",
          "data": {
            "text/plain": [
              "((55000, 28, 28, 1), (55000, 10), (10000, 28, 28, 1), (10000, 10))"
            ]
          },
          "metadata": {
            "tags": []
          },
          "execution_count": 5
        }
      ]
    },
    {
      "metadata": {
        "colab_type": "code",
        "id": "RQl4z_WxQcxu",
        "colab": {}
      },
      "cell_type": "code",
      "source": [
        "I_D = tf.placeholder(tf.float32, [None, 28, 28, 1])\n",
        " # shape=[N, W, H, C], batch 학습을 위해 N 대신 None을 써줌\n",
        "Y = tf.placeholder(tf.float32, [None, 10])\n",
        "# shape=[N, # of classes]\n",
        "\n",
        "C_W1 = tf.Variable(tf.truncated_normal([4, 4, 1, 32], stddev=0.01))\n",
        " # shape = [FW1, FH1, C, FN1]\n",
        "C_W2 = tf.Variable(tf.truncated_normal([4, 4, 32, 64], stddev=0.01))\n",
        " # shape = [FW2, FH2, C2, FN2], C2 = FN1"
      ],
      "execution_count": 0,
      "outputs": []
    },
    {
      "metadata": {
        "id": "-zKTlyVUXr2H",
        "colab_type": "code",
        "colab": {}
      },
      "cell_type": "code",
      "source": [
        "### Convolution Layer1\n",
        "conv1 = tf.nn.conv2d( I_D, C_W1, strides = [1, 1, 1, 1], padding = \"SAME\" )\n",
        "bias1 = tf.Variable(tf.zeros([1, 1, 1, 32]))\n",
        "relu1 = tf.nn.relu(conv1 + bias1)\n",
        "max_pool1 = tf.nn.max_pool(relu1, ksize=[1, 4, 4, 1], strides=[1, 2, 2, 1], padding=\"SAME\")\n",
        " # ksize=[1, FW1, FH1, 1], strides=[1, P, P, 1] (P:Pooling size)\n",
        "\n",
        "### Convolution Layer2\n",
        "conv2 = tf.nn.conv2d( max_pool1, C_W2, strides = [1, 1, 1, 1], padding = \"SAME\" )\n",
        "bias2 = tf.Variable(tf.zeros([1, 1, 1, 64]))\n",
        "relu2 = tf.nn.relu(conv2 + bias2)\n",
        "max_pool2 = tf.nn.max_pool(relu2, ksize=[1, 4, 4, 1], strides=[1, 2, 2, 1], padding=\"SAME\")\n",
        " # ksize=[1, FW2, FH2, 1], strides=[1, P, P, 1]"
      ],
      "execution_count": 0,
      "outputs": []
    },
    {
      "metadata": {
        "colab_type": "code",
        "id": "2y_KLOn_26WB",
        "outputId": "06fa9786-cb34-487f-9c41-ca6c32c81e22",
        "colab": {
          "base_uri": "https://localhost:8080/",
          "height": 35
        }
      },
      "cell_type": "code",
      "source": [
        "max_pool2.shape"
      ],
      "execution_count": 0,
      "outputs": [
        {
          "output_type": "execute_result",
          "data": {
            "text/plain": [
              "TensorShape([Dimension(None), Dimension(7), Dimension(7), Dimension(64)])"
            ]
          },
          "metadata": {
            "tags": []
          },
          "execution_count": 7
        }
      ]
    },
    {
      "metadata": {
        "colab_type": "code",
        "id": "IaAwwqBVzfWq",
        "colab": {}
      },
      "cell_type": "code",
      "source": [
        "FCS = max_pool2.shape                                    # final_conv_shape\n",
        "final_shape = int(FCS[1] * FCS[2] * FCS[3])              \n",
        "flat_output = tf.reshape(max_pool2, [-1, final_shape])\n",
        " # Affine layer를 위해 1차원으로 바꿔줌, shape의 첫번째 원소는 batch 학습을 위해 None의 의미인 -1"
      ],
      "execution_count": 0,
      "outputs": []
    },
    {
      "metadata": {
        "id": "lcUGwXuUYOFO",
        "colab_type": "code",
        "cellView": "code",
        "outputId": "5decb7e3-f1c3-493b-dc18-3605927eb9cb",
        "colab": {
          "base_uri": "https://localhost:8080/",
          "height": 35
        }
      },
      "cell_type": "code",
      "source": [
        "flat_output.shape"
      ],
      "execution_count": 0,
      "outputs": [
        {
          "output_type": "execute_result",
          "data": {
            "text/plain": [
              "TensorShape([Dimension(None), Dimension(3136)])"
            ]
          },
          "metadata": {
            "tags": []
          },
          "execution_count": 29
        }
      ]
    },
    {
      "metadata": {
        "colab_type": "code",
        "id": "YKqGJ_34zfXS",
        "colab": {}
      },
      "cell_type": "code",
      "source": [
        "n_hidden = 128                                                 # Affine layer1의 node 수\n",
        "\n",
        "### Affine layer1\n",
        "W1 = tf.Variable(tf.truncated_normal([final_shape, n_hidden], stddev = tf.sqrt(2/final_shape)))\n",
        "b1 = tf.Variable(tf.zeros([1, n_hidden]))                      # (He 초기값)\n",
        "Z1 = tf.nn.relu(tf.matmul(flat_output, W1) + b1)\n",
        "\n",
        "### Affine layer2\n",
        "W2 = tf.Variable(tf.truncated_normal([n_hidden, 10], stddev = tf.sqrt(2/(n_hidden+10))))\n",
        "b2 = tf.Variable(tf.zeros([1, 10]))                            # └> (Xavier 초기값)\n",
        "Z2 = tf.nn.softmax(tf.matmul(Z1, W2) + b2)                     # => 최종 output"
      ],
      "execution_count": 0,
      "outputs": []
    },
    {
      "metadata": {
        "colab_type": "code",
        "id": "gAX5jb97zfXb",
        "colab": {}
      },
      "cell_type": "code",
      "source": [
        "cross_entropy = tf.reduce_mean(-tf.reduce_sum(Y * tf.log(Z2), axis=1))\n",
        "train_step = tf.train.AdadeltaOptimizer(learning_rate=1.0).minimize(cross_entropy)\n",
        " # Adaptive Delta Optimizer 이용 (learning rate는 보통 1.0을 사용)"
      ],
      "execution_count": 0,
      "outputs": []
    },
    {
      "metadata": {
        "colab_type": "code",
        "id": "RH3f3DxQ8trf",
        "colab": {}
      },
      "cell_type": "code",
      "source": [
        "correct_prediction = tf.equal(tf.argmax(Z2, 1), tf.argmax(Y, 1))\n",
        "accuracy = tf.reduce_mean(tf.cast(correct_prediction, tf.float32))"
      ],
      "execution_count": 0,
      "outputs": []
    },
    {
      "metadata": {
        "colab_type": "code",
        "id": "JnbGLFHWzfYd",
        "colab": {}
      },
      "cell_type": "code",
      "source": [
        "batch_size = 128\n",
        "n_batches = 55000//batch_size"
      ],
      "execution_count": 0,
      "outputs": []
    },
    {
      "metadata": {
        "colab_type": "code",
        "id": "mln-639ozfZC",
        "colab": {}
      },
      "cell_type": "code",
      "source": [
        "init = tf.global_variables_initializer()\n",
        "sess = tf.Session()\n",
        "sess.run(init)                                                               # 변수 초기화"
      ],
      "execution_count": 0,
      "outputs": []
    },
    {
      "metadata": {
        "colab_type": "code",
        "id": "ywPb0zHyzfZJ",
        "outputId": "49baa005-52e4-4162-da1f-9f8dbd72d389",
        "colab": {
          "base_uri": "https://localhost:8080/",
          "height": 341
        }
      },
      "cell_type": "code",
      "source": [
        "for epoch in range(18):\n",
        "    \n",
        "    X_, Y_ = shuffle(train_xdata, train_labels)\n",
        "    my_accuracy = sess.run(accuracy, feed_dict = { I_D: test_xdata, Y: test_labels })                 \n",
        "    print(epoch, my_accuracy)                             # step마다 accuracy를 확인하기 위한 코드\n",
        "    \n",
        "    for i in range(n_batches):\n",
        "        start = i * batch_size\n",
        "        end = start + batch_size\n",
        "        sess.run(train_step, feed_dict = { I_D: X_[start:end], Y: Y_[start:end] })"
      ],
      "execution_count": 0,
      "outputs": [
        {
          "output_type": "stream",
          "text": [
            "0 0.0974\n",
            "1 0.9817\n",
            "2 0.9882\n",
            "3 0.9898\n",
            "4 0.9891\n",
            "5 0.9914\n",
            "6 0.9934\n",
            "7 0.993\n",
            "8 0.9935\n",
            "9 0.9926\n",
            "10 0.9918\n",
            "11 0.9926\n",
            "12 0.9934\n",
            "13 0.9939\n",
            "14 0.9929\n",
            "15 0.9938\n",
            "16 0.9948\n",
            "17 0.9933\n"
          ],
          "name": "stdout"
        }
      ]
    },
    {
      "metadata": {
        "colab_type": "code",
        "id": "Tfio3BVjzfZR",
        "outputId": "7d1e8915-dee1-436a-b553-ba26e6b38e1e",
        "colab": {
          "base_uri": "https://localhost:8080/",
          "height": 35
        }
      },
      "cell_type": "code",
      "source": [
        "sess.run(accuracy, feed_dict = { I_D: test_xdata, Y: test_labels })          # 최종 accuracy"
      ],
      "execution_count": 0,
      "outputs": [
        {
          "output_type": "execute_result",
          "data": {
            "text/plain": [
              "0.9941"
            ]
          },
          "metadata": {
            "tags": []
          },
          "execution_count": 30
        }
      ]
    }
  ]
}