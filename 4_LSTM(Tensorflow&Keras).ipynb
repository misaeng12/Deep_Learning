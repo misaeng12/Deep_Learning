{
  "nbformat": 4,
  "nbformat_minor": 0,
  "metadata": {
    "colab": {
      "name": "LSTM_정민.ipynb",
      "version": "0.3.2",
      "provenance": [],
      "collapsed_sections": []
    },
    "kernelspec": {
      "name": "python3",
      "display_name": "Python 3"
    },
    "accelerator": "GPU"
  },
  "cells": [
    {
      "metadata": {
        "id": "5Ev5tcQIZI0T",
        "colab_type": "code",
        "colab": {}
      },
      "cell_type": "code",
      "source": [
        "import numpy as np\n",
        "from matplotlib import pyplot as plt"
      ],
      "execution_count": 0,
      "outputs": []
    },
    {
      "metadata": {
        "id": "F3mzWR-8ZI0a",
        "colab_type": "code",
        "colab": {}
      },
      "cell_type": "code",
      "source": [
        "def sin(x, T=100):\n",
        "    return np.sin(2.0*np.pi*x/T)"
      ],
      "execution_count": 0,
      "outputs": []
    },
    {
      "metadata": {
        "id": "N1mg3h-3ZI0e",
        "colab_type": "code",
        "colab": {}
      },
      "cell_type": "code",
      "source": [
        "def toy_problem(T=100,ampl=0.05):\n",
        "    x=np.arange(0,2*T+1)\n",
        "    noise=ampl*np.random.uniform(low=-1,high=1,size=len(x))\n",
        "    return sin(x)+noise"
      ],
      "execution_count": 0,
      "outputs": []
    },
    {
      "metadata": {
        "id": "668BNhsQZI0h",
        "colab_type": "code",
        "outputId": "4e357839-becd-4bdc-b2ee-87dc7722d42e",
        "colab": {
          "base_uri": "https://localhost:8080/",
          "height": 364
        }
      },
      "cell_type": "code",
      "source": [
        "f=toy_problem(T=100,ampl=0.05)\n",
        "x=np.arange(0,200+1)*(np.pi*4)/200\n",
        "plt.plot(x,f)"
      ],
      "execution_count": 0,
      "outputs": [
        {
          "output_type": "execute_result",
          "data": {
            "text/plain": [
              "[<matplotlib.lines.Line2D at 0x7f1cfd9a57b8>]"
            ]
          },
          "metadata": {
            "tags": []
          },
          "execution_count": 4
        },
        {
          "output_type": "display_data",
          "data": {
            "image/png": "[encoded data removed]",
            "text/plain": [
              "<matplotlib.figure.Figure at 0x7f1d3ba32668>"
            ]
          },
          "metadata": {
            "tags": []
          }
        }
      ]
    },
    {
      "metadata": {
        "id": "QJyLHTevZI0n",
        "colab_type": "code",
        "colab": {}
      },
      "cell_type": "code",
      "source": [
        "length_of_sequence=2*100\n",
        "maxlen=25\n",
        "\n",
        "data=[]\n",
        "target=[]\n",
        "for i in range(0,length_of_sequence-maxlen+1):\n",
        "    data.append(f[i:(i+maxlen)])   # 0-24, 1-25, 2-26, ..., 175-199\n",
        "    target.append(f[i+maxlen])     # 25, 26, 27, ..., 200"
      ],
      "execution_count": 0,
      "outputs": []
    },
    {
      "metadata": {
        "id": "afZ6kV5pZI0q",
        "colab_type": "code",
        "colab": {}
      },
      "cell_type": "code",
      "source": [
        "X=np.array(data).reshape(len(data),maxlen,1)\n",
        "y=np.array(target).reshape(len(data),1)"
      ],
      "execution_count": 0,
      "outputs": []
    },
    {
      "metadata": {
        "id": "MQ2tdqIcAOou",
        "colab_type": "code",
        "outputId": "0a45213b-8521-4d32-cebb-629cfddd1649",
        "colab": {
          "base_uri": "https://localhost:8080/",
          "height": 34
        }
      },
      "cell_type": "code",
      "source": [
        "X.shape, y.shape"
      ],
      "execution_count": 0,
      "outputs": [
        {
          "output_type": "execute_result",
          "data": {
            "text/plain": [
              "((176, 25, 1), (176, 1))"
            ]
          },
          "metadata": {
            "tags": []
          },
          "execution_count": 7
        }
      ]
    },
    {
      "metadata": {
        "id": "chvVD5uyZI0m",
        "colab_type": "text"
      },
      "cell_type": "markdown",
      "source": [
        "## Keras"
      ]
    },
    {
      "metadata": {
        "id": "tL9i6HyD9vZI",
        "colab_type": "code",
        "colab": {}
      },
      "cell_type": "code",
      "source": [
        "from keras.models import Sequential\n",
        "from keras.layers import Dense\n",
        "from keras.layers import LSTM"
      ],
      "execution_count": 0,
      "outputs": []
    },
    {
      "metadata": {
        "scrolled": true,
        "id": "0WbvfzxNZI0w",
        "colab_type": "code",
        "outputId": "93fc501f-ee5d-42be-e1ae-82e5fdb777b5",
        "colab": {
          "base_uri": "https://localhost:8080/",
          "height": 1099
        }
      },
      "cell_type": "code",
      "source": [
        "model = Sequential()\n",
        "model.add(LSTM(32, input_shape=(X.shape[1], X.shape[2])))\n",
        "model.add(Dense(y.shape[1], activation='linear'))\n",
        "model.compile(loss='mean_squared_error', optimizer='adam')\n",
        "model.fit(X, y, epochs=30, batch_size=10, verbose=2, validation_split=0.3)"
      ],
      "execution_count": 0,
      "outputs": [
        {
          "output_type": "stream",
          "text": [
            "Train on 123 samples, validate on 53 samples\n",
            "Epoch 1/30\n",
            " - 2s - loss: 0.3204 - val_loss: 0.2106\n",
            "Epoch 2/30\n",
            " - 1s - loss: 0.1080 - val_loss: 0.1004\n",
            "Epoch 3/30\n",
            " - 1s - loss: 0.0643 - val_loss: 0.0618\n",
            "Epoch 4/30\n",
            " - 1s - loss: 0.0456 - val_loss: 0.0419\n",
            "Epoch 5/30\n",
            " - 1s - loss: 0.0334 - val_loss: 0.0321\n",
            "Epoch 6/30\n",
            " - 1s - loss: 0.0237 - val_loss: 0.0219\n",
            "Epoch 7/30\n",
            " - 1s - loss: 0.0143 - val_loss: 0.0108\n",
            "Epoch 8/30\n",
            " - 1s - loss: 0.0065 - val_loss: 0.0045\n",
            "Epoch 9/30\n",
            " - 1s - loss: 0.0023 - val_loss: 0.0028\n",
            "Epoch 10/30\n",
            " - 1s - loss: 0.0019 - val_loss: 0.0026\n",
            "Epoch 11/30\n",
            " - 1s - loss: 0.0016 - val_loss: 0.0018\n",
            "Epoch 12/30\n",
            " - 1s - loss: 0.0015 - val_loss: 0.0018\n",
            "Epoch 13/30\n",
            " - 1s - loss: 0.0016 - val_loss: 0.0018\n",
            "Epoch 14/30\n",
            " - 1s - loss: 0.0015 - val_loss: 0.0017\n",
            "Epoch 15/30\n",
            " - 1s - loss: 0.0015 - val_loss: 0.0018\n",
            "Epoch 16/30\n",
            " - 1s - loss: 0.0014 - val_loss: 0.0016\n",
            "Epoch 17/30\n",
            " - 1s - loss: 0.0014 - val_loss: 0.0016\n",
            "Epoch 18/30\n",
            " - 1s - loss: 0.0013 - val_loss: 0.0015\n",
            "Epoch 19/30\n",
            " - 1s - loss: 0.0013 - val_loss: 0.0014\n",
            "Epoch 20/30\n",
            " - 1s - loss: 0.0012 - val_loss: 0.0015\n",
            "Epoch 21/30\n",
            " - 1s - loss: 0.0014 - val_loss: 0.0014\n",
            "Epoch 22/30\n",
            " - 1s - loss: 0.0012 - val_loss: 0.0014\n",
            "Epoch 23/30\n",
            " - 1s - loss: 0.0013 - val_loss: 0.0014\n",
            "Epoch 24/30\n",
            " - 1s - loss: 0.0013 - val_loss: 0.0014\n",
            "Epoch 25/30\n",
            " - 1s - loss: 0.0014 - val_loss: 0.0013\n",
            "Epoch 26/30\n",
            " - 1s - loss: 0.0012 - val_loss: 0.0013\n",
            "Epoch 27/30\n",
            " - 1s - loss: 0.0012 - val_loss: 0.0013\n",
            "Epoch 28/30\n",
            " - 1s - loss: 0.0011 - val_loss: 0.0012\n",
            "Epoch 29/30\n",
            " - 1s - loss: 0.0011 - val_loss: 0.0014\n",
            "Epoch 30/30\n",
            " - 1s - loss: 0.0012 - val_loss: 0.0012\n"
          ],
          "name": "stdout"
        },
        {
          "output_type": "execute_result",
          "data": {
            "text/plain": [
              "<keras.callbacks.History at 0x7f0977fc5ef0>"
            ]
          },
          "metadata": {
            "tags": []
          },
          "execution_count": 28
        }
      ]
    },
    {
      "metadata": {
        "id": "TT3b1YwaZI00",
        "colab_type": "code",
        "colab": {}
      },
      "cell_type": "code",
      "source": [
        "y_hat = model.predict(X)"
      ],
      "execution_count": 0,
      "outputs": []
    },
    {
      "metadata": {
        "id": "sVNFQ2LUZI03",
        "colab_type": "code",
        "outputId": "d2c4fcdf-bf72-4c06-fa5d-ee3003f076d0",
        "colab": {
          "base_uri": "https://localhost:8080/",
          "height": 34
        }
      },
      "cell_type": "code",
      "source": [
        "X.shape, X[:,0,:].shape"
      ],
      "execution_count": 0,
      "outputs": [
        {
          "output_type": "execute_result",
          "data": {
            "text/plain": [
              "((176, 25, 1), (176, 1))"
            ]
          },
          "metadata": {
            "tags": []
          },
          "execution_count": 18
        }
      ]
    },
    {
      "metadata": {
        "id": "qHNNjjYuZI07",
        "colab_type": "code",
        "colab": {}
      },
      "cell_type": "code",
      "source": [
        "Z=X[:1]                                        # 1-25\n",
        "original = [f[i] for i in range(maxlen)]       # 1-25\n",
        "predicted = [None for i in range(maxlen)]      # 25개짜리 빈 list\n",
        "\n",
        "for i in range(length_of_sequence - maxlen + 1):   # i = 0, ..., 176\n",
        "    z_ = Z[-1:]                                    # Z의 마지막 25개\n",
        "    y_ = model.predict(z_)                         # 그것으로 예측\n",
        "    sequence_ = np.concatenate( (z_.reshape(maxlen, 1)[1:], y_), axis=0 ).reshape(1, maxlen, 1)    # z_의 맨 앞 하나를 빼고 맨 끝에 예측한 y_를 붙임\n",
        "    Z=np.append(z_, sequence_, axis=0)             # y_ 붙인 것을 z_ list에 추가\n",
        "    predicted.append(y_.reshape(-1))               "
      ],
      "execution_count": 0,
      "outputs": []
    },
    {
      "metadata": {
        "id": "BCZK2ZA1ZI0-",
        "colab_type": "code",
        "outputId": "83c64f20-5b7f-4e6e-b43e-a23f720407ab",
        "colab": {
          "base_uri": "https://localhost:8080/",
          "height": 364
        }
      },
      "cell_type": "code",
      "source": [
        "plt.plot(toy_problem(T=100, ampl=0), linestyle=\"dotted\")\n",
        "plt.plot(original, linestyle=\"dashed\")\n",
        "plt.plot(predicted)\n",
        "plt.legend([\"y\",\"original\",\"predict\"])"
      ],
      "execution_count": 0,
      "outputs": [
        {
          "output_type": "execute_result",
          "data": {
            "text/plain": [
              "<matplotlib.legend.Legend at 0x7f0977648ba8>"
            ]
          },
          "metadata": {
            "tags": []
          },
          "execution_count": 30
        },
        {
          "output_type": "display_data",
          "data": {
            "image/png": "[encoded data removed]",
            "text/plain": [
              "<matplotlib.figure.Figure at 0x7f097826b358>"
            ]
          },
          "metadata": {
            "tags": []
          }
        }
      ]
    },
    {
      "metadata": {
        "id": "_9C_pN4bZI1C",
        "colab_type": "text"
      },
      "cell_type": "markdown",
      "source": [
        "## Tensorflow"
      ]
    },
    {
      "metadata": {
        "id": "zCrS8InLZI1D",
        "colab_type": "code",
        "colab": {}
      },
      "cell_type": "code",
      "source": [
        "import tensorflow as tf"
      ],
      "execution_count": 0,
      "outputs": []
    },
    {
      "metadata": {
        "id": "rHFkatqfZI1G",
        "colab_type": "code",
        "colab": {}
      },
      "cell_type": "code",
      "source": [
        "input_data_column_cnt=1  # n-in\n",
        "output_data_column_cnt=1   # n-out\n",
        "\n",
        "seq_length=25 # maxlen\n",
        "rnn_cell_hidden_dim=30  # n_hidden\n",
        "forget_bias=1.0  # 망각편행 (기본값 1.0)\n",
        "num_stacked_layers=1  # stacked LSTM layers 갯수\n",
        "\n",
        "epoch_num=1000  # epoch\n",
        "learning_rate=0.01"
      ],
      "execution_count": 0,
      "outputs": []
    },
    {
      "metadata": {
        "id": "CThbAD-xZI1K",
        "colab_type": "code",
        "colab": {}
      },
      "cell_type": "code",
      "source": [
        "# 학습용/테스트용 데이터 생성\n",
        "# 전체 70%를 학습용 데이터로 사용\n",
        "train_size = int(len(X) * 0.7)\n",
        "# 나머지(30%)를 테스트용 데이터로 사용\n",
        "test_size = len(y) - train_size\n",
        " \n",
        "# 데이터를 잘라 학습용 데이터 생성\n",
        "trainX = np.array(X[0:train_size])\n",
        "trainY = np.array(y[0:train_size])\n",
        " \n",
        "# 데이터를 잘라 테스트용 데이터 생성\n",
        "testX = np.array(X[train_size:len(X)])\n",
        "testY = np.array(y[train_size:len(y)])"
      ],
      "execution_count": 0,
      "outputs": []
    },
    {
      "metadata": {
        "id": "FlhdkhPbZI1N",
        "colab_type": "code",
        "colab": {}
      },
      "cell_type": "code",
      "source": [
        "X=tf.placeholder(tf.float32,[None,seq_length,input_data_column_cnt])\n",
        "Y=tf.placeholder(tf.float32,[None,1])\n",
        "\n",
        "targets=tf.placeholder(tf.float32,[None,1])\n",
        "predictions=tf.placeholder(tf.float32,[None,1])"
      ],
      "execution_count": 0,
      "outputs": []
    },
    {
      "metadata": {
        "id": "zSXtyPZAZI1R",
        "colab_type": "code",
        "colab": {}
      },
      "cell_type": "code",
      "source": [
        "num_hidden = 16\n",
        "def lstm_cell() :\n",
        "    cell = tf.contrib.rnn.BasicLSTMCell(num_hidden,forget_bias=forget_bias,\n",
        "                                    state_is_tuple=True,activation=tf.nn.softsign)\n",
        "    return cell"
      ],
      "execution_count": 0,
      "outputs": []
    },
    {
      "metadata": {
        "id": "ol_S_Nm6ZI1X",
        "colab_type": "code",
        "outputId": "c3cc25fa-18df-4599-9ab3-b48f4b47638d",
        "colab": {}
      },
      "cell_type": "code",
      "source": [
        "stackedRNNs=[lstm_cell() for _ in range(num_stacked_layers)]\n",
        "multi_cells=tf.contrib.rnn.MultiRNNCell(stackedRNNs,state_is_tuple=True) if num_stacked_layers > 1 else lstm_cell()"
      ],
      "execution_count": 0,
      "outputs": [
        {
          "output_type": "stream",
          "text": [
            "WARNING:tensorflow:From <ipython-input-16-f2cba50b7ebd>:4: BasicLSTMCell.__init__ (from tensorflow.python.ops.rnn_cell_impl) is deprecated and will be removed in a future version.\n",
            "Instructions for updating:\n",
            "This class is deprecated, please use tf.nn.rnn_cell.LSTMCell, which supports all the feature this cell currently has. Please replace the existing code with tf.nn.rnn_cell.LSTMCell(name='basic_lstm_cell').\n"
          ],
          "name": "stdout"
        }
      ]
    },
    {
      "metadata": {
        "id": "-E6oNrobZI1d",
        "colab_type": "code",
        "colab": {}
      },
      "cell_type": "code",
      "source": [
        "hypothesis, _states=tf.nn.dynamic_rnn(multi_cells,X,dtype=tf.float32)"
      ],
      "execution_count": 0,
      "outputs": []
    },
    {
      "metadata": {
        "id": "QRdN5KXSZI1l",
        "colab_type": "code",
        "colab": {}
      },
      "cell_type": "code",
      "source": [
        "hypothesis = tf.contrib.layers.fully_connected(hypothesis[:, -1], output_data_column_cnt, activation_fn=tf.identity)"
      ],
      "execution_count": 0,
      "outputs": []
    },
    {
      "metadata": {
        "id": "cn8T_thhZI1o",
        "colab_type": "code",
        "colab": {}
      },
      "cell_type": "code",
      "source": [
        "loss=tf.reduce_sum(tf.square(hypothesis-Y))\n",
        "optimizer=tf.train.AdamOptimizer(learning_rate)"
      ],
      "execution_count": 0,
      "outputs": []
    },
    {
      "metadata": {
        "id": "CxmDAtmQZI1s",
        "colab_type": "code",
        "colab": {}
      },
      "cell_type": "code",
      "source": [
        "train=optimizer.minimize(loss)"
      ],
      "execution_count": 0,
      "outputs": []
    },
    {
      "metadata": {
        "id": "2m-jQzwqZI1v",
        "colab_type": "code",
        "colab": {}
      },
      "cell_type": "code",
      "source": [
        "rmse=tf.sqrt(tf.reduce_mean(tf.squared_difference(targets,predictions)))"
      ],
      "execution_count": 0,
      "outputs": []
    },
    {
      "metadata": {
        "id": "mE6i3HBvZI1y",
        "colab_type": "code",
        "colab": {}
      },
      "cell_type": "code",
      "source": [
        "train_error_summary=[]\n",
        "test_error_summary=[]\n",
        "test_predict=''"
      ],
      "execution_count": 0,
      "outputs": []
    },
    {
      "metadata": {
        "id": "6_lvWJvyZI10",
        "colab_type": "code",
        "colab": {}
      },
      "cell_type": "code",
      "source": [
        "sess=tf.Session()\n",
        "sess.run(tf.global_variables_initializer())"
      ],
      "execution_count": 0,
      "outputs": []
    },
    {
      "metadata": {
        "id": "oyBSwPtlZI13",
        "colab_type": "code",
        "outputId": "474e952e-d45f-4ba7-ef28-15abc6f02160",
        "colab": {}
      },
      "cell_type": "code",
      "source": [
        "for epoch in range(epoch_num):\n",
        "    _, _loss = sess.run([train, loss], feed_dict={X: trainX, Y: trainY})\n",
        "    if ((epoch+1) % 100 == 0) or (epoch == epoch_num-1): # 100번째마다 또는 마지막 epoch인 경우\n",
        "        # 학습용데이터로 rmse오차를 구한다\n",
        "        train_predict = sess.run(hypothesis, feed_dict={X: trainX})\n",
        "        train_error = sess.run(rmse, feed_dict={targets: trainY, predictions: train_predict})\n",
        "        train_error_summary.append(train_error)\n",
        " \n",
        "        # 테스트용데이터로 rmse오차를 구한다\n",
        "        test_predict = sess.run(hypothesis, feed_dict={X: testX})\n",
        "        test_error = sess.run(rmse, feed_dict={targets: testY, predictions: test_predict})\n",
        "        test_error_summary.append(test_error)\n",
        "        \n",
        "        # 현재 오류를 출력한다\n",
        "        print(\"epoch: {}, train_error(A): {}, test_error(B): {}, B-A: {}\".format(epoch+1, train_error, test_error, test_error-train_error))\n"
      ],
      "execution_count": 0,
      "outputs": [
        {
          "output_type": "stream",
          "text": [
            "epoch: 100, train_error(A): 0.03345312550663948, test_error(B): 0.034954752773046494, B-A: 0.001501627266407013\n",
            "epoch: 200, train_error(A): 0.032013412564992905, test_error(B): 0.03426719084382057, B-A: 0.0022537782788276672\n",
            "epoch: 300, train_error(A): 0.031400203704833984, test_error(B): 0.03372332826256752, B-A: 0.0023231245577335358\n",
            "epoch: 400, train_error(A): 0.03080906718969345, test_error(B): 0.03330106660723686, B-A: 0.0024919994175434113\n",
            "epoch: 500, train_error(A): 0.030284935608506203, test_error(B): 0.033033065497875214, B-A: 0.002748129889369011\n",
            "epoch: 600, train_error(A): 0.029857251793146133, test_error(B): 0.03290271386504173, B-A: 0.0030454620718955994\n",
            "epoch: 700, train_error(A): 0.0294773168861866, test_error(B): 0.032860711216926575, B-A: 0.003383394330739975\n",
            "epoch: 800, train_error(A): 0.029101036489009857, test_error(B): 0.03279676288366318, B-A: 0.0036957263946533203\n",
            "epoch: 900, train_error(A): 0.0289460401982069, test_error(B): 0.03263968229293823, B-A: 0.003693642094731331\n",
            "epoch: 1000, train_error(A): 0.028565112501382828, test_error(B): 0.03265136107802391, B-A: 0.004086248576641083\n"
          ],
          "name": "stdout"
        }
      ]
    },
    {
      "metadata": {
        "id": "Cg4qjIhcZI16",
        "colab_type": "code",
        "colab": {}
      },
      "cell_type": "code",
      "source": [
        "epochs=1000\n",
        "batch_size=10\n",
        "init = tf.global_variables_initializer()\n",
        "sess = tf.Session()\n",
        "sess.run(init)\n",
        "\n",
        "n_batches = len(trainX) // batch_size\n",
        "from sklearn.utils import shuffle"
      ],
      "execution_count": 0,
      "outputs": []
    },
    {
      "metadata": {
        "id": "nzvB5GWrZI19",
        "colab_type": "code",
        "outputId": "078592ca-093b-47e1-c642-b39b10314192",
        "colab": {}
      },
      "cell_type": "code",
      "source": [
        "my_loss = []\n",
        "for epoch in range(epochs):\n",
        "    X_, Y_ = shuffle(trainX, trainY)\n",
        "    \n",
        "    for i in range(n_batches):\n",
        "        start = i* batch_size\n",
        "        end = start + batch_size\n",
        "    \n",
        "    sess.run(train, feed_dict={\n",
        "        X: X_[start:end], \n",
        "        Y: Y_[start:end]\n",
        "    })\n",
        "    \n",
        "    val_loss = loss.eval(session=sess, feed_dict={\n",
        "        X: testX, \n",
        "        Y: testY\n",
        "    })\n",
        "    my_loss.append(val_loss)\n",
        "    \n",
        "    if epoch%50==0 :\n",
        "        print(\"epoch:\", epoch, \"validation loss:\", val_loss)\n",
        "print(\"epoch:\", epoch, \"validation loss:\", my_loss[-1])"
      ],
      "execution_count": 0,
      "outputs": [
        {
          "output_type": "stream",
          "text": [
            "epoch: 0 validation loss: 19.151684\n",
            "epoch: 50 validation loss: 0.2529941\n",
            "epoch: 100 validation loss: 0.0964679\n",
            "epoch: 150 validation loss: 0.11071161\n",
            "epoch: 200 validation loss: 0.08819667\n",
            "epoch: 250 validation loss: 0.07511838\n",
            "epoch: 300 validation loss: 0.07253744\n",
            "epoch: 350 validation loss: 0.076529935\n",
            "epoch: 400 validation loss: 0.074406825\n",
            "epoch: 450 validation loss: 0.072189786\n",
            "epoch: 500 validation loss: 0.08243407\n",
            "epoch: 550 validation loss: 0.069672465\n",
            "epoch: 600 validation loss: 0.076844506\n",
            "epoch: 650 validation loss: 0.07448575\n",
            "epoch: 700 validation loss: 0.095993795\n",
            "epoch: 750 validation loss: 0.08598601\n",
            "epoch: 800 validation loss: 0.08330682\n",
            "epoch: 850 validation loss: 0.0845018\n",
            "epoch: 900 validation loss: 0.08789969\n",
            "epoch: 950 validation loss: 0.070543416\n",
            "epoch: 999 validation loss: 0.069430366\n"
          ],
          "name": "stdout"
        }
      ]
    },
    {
      "metadata": {
        "id": "xk3zIC96ZI2C",
        "colab_type": "code",
        "outputId": "28fe0bb9-81ff-413b-d9a0-79c37da3c840",
        "colab": {}
      },
      "cell_type": "code",
      "source": [
        "plt.plot(my_loss)"
      ],
      "execution_count": 0,
      "outputs": [
        {
          "output_type": "execute_result",
          "data": {
            "text/plain": [
              "[<matplotlib.lines.Line2D at 0x1d85d61c710>]"
            ]
          },
          "metadata": {
            "tags": []
          },
          "execution_count": 28
        },
        {
          "output_type": "display_data",
          "data": {
            "image/png": "[encoded data removed]",
            "text/plain": [
              "<Figure size 432x288 with 1 Axes>"
            ]
          },
          "metadata": {
            "tags": [],
            "needs_background": "light"
          }
        }
      ]
    },
    {
      "metadata": {
        "id": "JIt_yPS7ZI2F",
        "colab_type": "code",
        "colab": {}
      },
      "cell_type": "code",
      "source": [
        "original = [f[i] for i in range(maxlen)]\n",
        "predicted = [None for i in range(maxlen)]"
      ],
      "execution_count": 0,
      "outputs": []
    },
    {
      "metadata": {
        "id": "GkZhomR6ZI2I",
        "colab_type": "code",
        "colab": {}
      },
      "cell_type": "code",
      "source": [
        "for i in range(0,train_predict.shape[0]) :\n",
        "    predicted.append(train_predict[i])\n",
        "for i in range(0,test_predict.shape[0]) :\n",
        "    predicted.append(test_predict[i])"
      ],
      "execution_count": 0,
      "outputs": []
    },
    {
      "metadata": {
        "id": "fvcOWA65ZI2K",
        "colab_type": "code",
        "outputId": "a535a4e6-1f90-479b-e388-d0acd46b8fb3",
        "colab": {
          "base_uri": "https://localhost:8080/",
          "height": 364
        }
      },
      "cell_type": "code",
      "source": [
        "plt.plot(toy_problem(T=100, ampl=0),'r', linestyle=\"dotted\")\n",
        "plt.plot(predicted, 'b')"
      ],
      "execution_count": 0,
      "outputs": [
        {
          "output_type": "execute_result",
          "data": {
            "text/plain": [
              "[<matplotlib.lines.Line2D at 0x7f0978235080>]"
            ]
          },
          "metadata": {
            "tags": []
          },
          "execution_count": 29
        },
        {
          "output_type": "display_data",
          "data": {
            "image/png": "[encoded data removed]",
            "text/plain": [
              "<matplotlib.figure.Figure at 0x7f09782030b8>"
            ]
          },
          "metadata": {
            "tags": []
          }
        }
      ]
    },
    {
      "metadata": {
        "id": "8Yb0fmahZI2O",
        "colab_type": "code",
        "colab": {}
      },
      "cell_type": "code",
      "source": [
        ""
      ],
      "execution_count": 0,
      "outputs": []
    }
  ]
}
