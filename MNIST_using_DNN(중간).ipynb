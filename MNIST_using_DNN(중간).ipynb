{
  "nbformat": 4,
  "nbformat_minor": 0,
  "metadata": {
    "colab": {
      "name": "MNIST_using_DNN(중간).ipynb",
      "version": "0.3.2",
      "provenance": [],
      "collapsed_sections": []
    },
    "kernelspec": {
      "name": "python3",
      "display_name": "Python 3"
    },
    "accelerator": "GPU"
  },
  "cells": [
    {
      "metadata": {
        "id": "g2SqrHykxuwh",
        "colab_type": "code",
        "colab": {}
      },
      "cell_type": "code",
      "source": [
        "import tensorflow as tf\n",
        "import matplotlib.pyplot as plt\n",
        "from sklearn.utils import shuffle"
      ],
      "execution_count": 0,
      "outputs": []
    },
    {
      "metadata": {
        "id": "H3drwr_1xuwk",
        "colab_type": "code",
        "colab": {}
      },
      "cell_type": "code",
      "source": [
        "from tensorflow.examples.tutorials.mnist import input_data\n",
        "mnist = input_data.read_data_sets(\"MNIST_data/\", one_hot=True)"
      ],
      "execution_count": 0,
      "outputs": []
    },
    {
      "metadata": {
        "id": "iWy4Bv0axuwn",
        "colab_type": "code",
        "outputId": "99f7a0c0-d3ea-4c1b-f1c2-07721ea453e0",
        "colab": {
          "base_uri": "https://localhost:8080/",
          "height": 365
        }
      },
      "cell_type": "code",
      "source": [
        "batch_xs, batch_ys = mnist.train.next_batch(1)\n",
        "plt.imshow(batch_xs.reshape(28,28), cmap='Greys')"
      ],
      "execution_count": 0,
      "outputs": [
        {
          "output_type": "execute_result",
          "data": {
            "text/plain": [
              "<matplotlib.image.AxesImage at 0x7f0a6d4c3b38>"
            ]
          },
          "metadata": {
            "tags": []
          },
          "execution_count": 6
        },
        {
          "output_type": "display_data",
          "data": {
            "image/png": "[encoded data removed]",
            "text/plain": [
              "<matplotlib.figure.Figure at 0x7f0ac04465c0>"
            ]
          },
          "metadata": {
            "tags": []
          }
        }
      ]
    },
    {
      "metadata": {
        "id": "ZNx5PgXfxuwq",
        "colab_type": "code",
        "outputId": "9af1d924-1f20-4f7c-b93e-620bfebc10d9",
        "colab": {
          "base_uri": "https://localhost:8080/",
          "height": 35
        }
      },
      "cell_type": "code",
      "source": [
        "X_train, Y_train = mnist.train.images, mnist.train.labels\n",
        "X_test, Y_test = mnist.test.images, mnist.test.labels\n",
        "X_train.shape, Y_train.shape, X_test.shape, Y_test.shape"
      ],
      "execution_count": 0,
      "outputs": [
        {
          "output_type": "execute_result",
          "data": {
            "text/plain": [
              "((55000, 784), (55000, 10), (10000, 784), (10000, 10))"
            ]
          },
          "metadata": {
            "tags": []
          },
          "execution_count": 7
        }
      ]
    },
    {
      "metadata": {
        "id": "SIT7Wf97xuwt",
        "colab_type": "text"
      },
      "cell_type": "markdown",
      "source": [
        "### Deep Neural Network Model (# of hidden layer = 5)"
      ]
    },
    {
      "metadata": {
        "id": "nfotqRVTxuwt",
        "colab_type": "code",
        "colab": {}
      },
      "cell_type": "code",
      "source": [
        "n_hidden1, n_hidden2, n_hidden3, n_hidden4, n_hidden5 = 2500, 2000, 1500, 1000, 500\n",
        "\n",
        "X = tf.placeholder(tf.float32, [None, 784]) \n",
        "Y = tf.placeholder(tf.float32, [None, 10])\n",
        "\n",
        "W1 = tf.Variable(tf.truncated_normal([784, n_hidden1], stddev = tf.sqrt(2/784)))               ### He 초기값\n",
        "b1 = tf.Variable(tf.zeros([1, n_hidden1]))                                       \n",
        "Z1 = tf.nn.relu(tf.matmul(X, W1) + b1)\n",
        "\n",
        "W2 = tf.Variable(tf.truncated_normal([n_hidden1, n_hidden2], stddev = tf.sqrt(2/n_hidden1)))\n",
        "b2 = tf.Variable(tf.zeros([1, n_hidden2]))\n",
        "Z2 = tf.nn.relu(tf.matmul(Z1, W2) + b2)                                   \n",
        "\n",
        "W3 = tf.Variable(tf.truncated_normal([n_hidden2, n_hidden3], stddev = tf.sqrt(2/n_hidden2)))\n",
        "b3 = tf.Variable(tf.zeros([1, n_hidden3]))\n",
        "Z3 = tf.nn.relu(tf.matmul(Z2, W3) + b3)\n",
        "\n",
        "W4 = tf.Variable(tf.truncated_normal([n_hidden3, n_hidden4], stddev = tf.sqrt(2/n_hidden3)))\n",
        "b4 = tf.Variable(tf.zeros([1, n_hidden4]))\n",
        "Z4 = tf.nn.relu(tf.matmul(Z3, W4) + b4)\n",
        "\n",
        "W5 = tf.Variable(tf.truncated_normal([n_hidden4, n_hidden5], stddev = tf.sqrt(2/n_hidden4)))\n",
        "b5 = tf.Variable(tf.zeros([1, n_hidden5]))\n",
        "Z5 = tf.nn.relu(tf.matmul(Z4, W5) + b5)\n",
        "\n",
        "W6 = tf.Variable(tf.truncated_normal([n_hidden5, 10], stddev = tf.sqrt(2/(n_hidden5+10))))     ### Xavier 초깃값\n",
        "b6 = tf.Variable(tf.zeros([1, 10]))\n",
        "Z6 = tf.nn.softmax(tf.matmul(Z5, W6) + b6)                                       \n",
        "\n",
        "cross_entropy = tf.reduce_mean(-tf.reduce_sum(Y * tf.log(Z6), axis=1))\n",
        "train_step = tf.train.AdagradOptimizer(0.01).minimize(cross_entropy)\n",
        "\n",
        "correct_prediction = tf.equal(tf.argmax(Z6, 1), tf.argmax(Y, 1))\n",
        "accuracy = tf.reduce_mean(tf.cast(correct_prediction, tf.float32))\n",
        "# my_prediction = tf.cast(tf.argmax(Z6, 1), tf.float32)"
      ],
      "execution_count": 0,
      "outputs": []
    },
    {
      "metadata": {
        "id": "lM1jnSxWxuww",
        "colab_type": "code",
        "outputId": "91292411-4952-45cd-9441-659efadd2b5f",
        "colab": {
          "base_uri": "https://localhost:8080/",
          "height": 35
        }
      },
      "cell_type": "code",
      "source": [
        "batch_size = 100\n",
        "n_batches = 55000//batch_size\n",
        "n_batches"
      ],
      "execution_count": 0,
      "outputs": [
        {
          "output_type": "execute_result",
          "data": {
            "text/plain": [
              "550"
            ]
          },
          "metadata": {
            "tags": []
          },
          "execution_count": 9
        }
      ]
    },
    {
      "metadata": {
        "id": "hQvt8dQOxuwx",
        "colab_type": "code",
        "colab": {}
      },
      "cell_type": "code",
      "source": [
        "init = tf.global_variables_initializer()\n",
        "sess = tf.Session()\n",
        "sess.run(init)"
      ],
      "execution_count": 0,
      "outputs": []
    },
    {
      "metadata": {
        "id": "ZPlwSEy4xuw0",
        "colab_type": "code",
        "outputId": "18452080-6620-459b-eb20-1d8a043833de",
        "colab": {
          "base_uri": "https://localhost:8080/",
          "height": 467
        }
      },
      "cell_type": "code",
      "source": [
        "for epoch in range(25):\n",
        "    \n",
        "    X_, Y_ = shuffle(X_train, Y_train)\n",
        "    my_accuracy = sess.run(accuracy, feed_dict = { X: X_train, Y: Y_train })\n",
        "    print(epoch, my_accuracy)\n",
        "    \n",
        "    for i in range(n_batches):\n",
        "        start = i * batch_size\n",
        "        end = start + batch_size\n",
        "        \n",
        "        sess.run(train_step, feed_dict = { X: X_[start:end], Y: Y_[start:end] })"
      ],
      "execution_count": 0,
      "outputs": [
        {
          "output_type": "stream",
          "text": [
            "0 0.11752728\n",
            "1 0.9477636\n",
            "2 0.9628\n",
            "3 0.97425455\n",
            "4 0.97276366\n",
            "5 0.9846909\n",
            "6 0.9775636\n",
            "7 0.9932182\n",
            "8 0.9956\n",
            "9 0.99805456\n",
            "10 0.99863636\n",
            "11 0.99912727\n",
            "12 0.9995273\n",
            "13 0.99872726\n",
            "14 0.9994909\n",
            "15 0.99994546\n",
            "16 0.9998909\n",
            "17 0.9999091\n",
            "18 0.9999818\n",
            "19 0.99985456\n",
            "20 1.0\n",
            "21 1.0\n",
            "22 1.0\n",
            "23 1.0\n",
            "24 1.0\n"
          ],
          "name": "stdout"
        }
      ]
    },
    {
      "metadata": {
        "id": "uZd8x5tjxuw6",
        "colab_type": "code",
        "outputId": "2f83c6cb-7413-4bf3-e9ea-56ad03b3acab",
        "colab": {
          "base_uri": "https://localhost:8080/",
          "height": 35
        }
      },
      "cell_type": "code",
      "source": [
        "sess.run(accuracy, feed_dict = { X: X_test, Y: Y_test })"
      ],
      "execution_count": 0,
      "outputs": [
        {
          "output_type": "execute_result",
          "data": {
            "text/plain": [
              "0.9826"
            ]
          },
          "metadata": {
            "tags": []
          },
          "execution_count": 12
        }
      ]
    },
    {
      "metadata": {
        "id": "f-6EagAsh1Kw",
        "colab_type": "code",
        "colab": {}
      },
      "cell_type": "code",
      "source": [
        ""
      ],
      "execution_count": 0,
      "outputs": []
    }
  ]
}